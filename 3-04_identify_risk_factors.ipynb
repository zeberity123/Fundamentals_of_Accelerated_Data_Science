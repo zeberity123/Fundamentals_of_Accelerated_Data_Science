{
 "cells": [
  {
   "cell_type": "markdown",
   "metadata": {},
   "source": [
    "# Week 3: Identify Risk Factors for Infection"
   ]
  },
  {
   "cell_type": "markdown",
   "metadata": {},
   "source": [
    "<span style=\"color:red\">\n",
    "**UPDATE**\n",
    "\n",
    "Thank you again for the previous analysis. We will next be publishing a public health advisory that warns of specific infection risk factors of which individuals should be aware. Please advise as to which population characteristics are associated with higher infection rates. \n",
    "</span>\n",
    "\n",
    "Your goal for this notebook will be to identify key potential demographic and economic risk factors for infection by comparing the infected and uninfected populations."
   ]
  },
  {
   "cell_type": "markdown",
   "metadata": {},
   "source": [
    "## Imports"
   ]
  },
  {
   "cell_type": "code",
   "execution_count": 1,
   "metadata": {
    "tags": []
   },
   "outputs": [],
   "source": [
    "import cudf\n",
    "import cuml"
   ]
  },
  {
   "cell_type": "markdown",
   "metadata": {},
   "source": [
    "## Load Data"
   ]
  },
  {
   "cell_type": "markdown",
   "metadata": {},
   "source": [
    "Begin by loading the data you've received about week 3 of the outbreak into a cuDF data frame. The data is located at `./data/week3.csv`. For this notebook you will need all columns of the data."
   ]
  },
  {
   "cell_type": "code",
   "execution_count": 3,
   "metadata": {
    "tags": []
   },
   "outputs": [
    {
     "name": "stdout",
     "output_type": "stream",
     "text": [
      "age             int64\n",
      "sex            object\n",
      "employment     object\n",
      "infected      float64\n",
      "dtype: object\n"
     ]
    },
    {
     "data": {
      "text/plain": [
       "(58479894, 4)"
      ]
     },
     "execution_count": 3,
     "metadata": {},
     "output_type": "execute_result"
    }
   ],
   "source": [
    "gdf = cudf.read_csv('./data/week3.csv')\n",
    "print(gdf.dtypes)\n",
    "gdf.shape"
   ]
  },
  {
   "cell_type": "markdown",
   "metadata": {},
   "source": [
    "## Calculate Infection Rates by Employment Code"
   ]
  },
  {
   "cell_type": "markdown",
   "metadata": {},
   "source": [
    "Convert the `infected` column to type `float32`. For people who are not infected, the float32 `infected` value should be `0.0`, and for infected people it should be `1.0`."
   ]
  },
  {
   "cell_type": "code",
   "execution_count": 6,
   "metadata": {
    "tags": []
   },
   "outputs": [
    {
     "name": "stdout",
     "output_type": "stream",
     "text": [
      "          age sex employment  infected\n",
      "0           0   m          U       0.0\n",
      "1           0   m          U       0.0\n",
      "2           0   m          U       0.0\n",
      "3           0   m          U       0.0\n",
      "4           0   m          U       0.0\n",
      "...       ...  ..        ...       ...\n",
      "58479889   90   f          V       0.0\n",
      "58479890   90   f          V       0.0\n",
      "58479891   90   f          V       0.0\n",
      "58479892   90   f          V       0.0\n",
      "58479893   90   f          V       0.0\n",
      "\n",
      "[58479894 rows x 4 columns]\n"
     ]
    }
   ],
   "source": [
    "gdf['infected'] = gdf['infected'].astype('float32')\n",
    "print(gdf)"
   ]
  },
  {
   "cell_type": "markdown",
   "metadata": {},
   "source": [
    "Now, produce a list of employment types and their associated **rates** of infection, sorted from highest to lowest rate of infection.\n",
    "\n",
    "**NOTE**: The infection **rate** for each employment type should be the percentage of total individuals within an employment type who are infected. Therefore, if employment type \"X\" has 1000 people, and 10 of them are infected, the infection **rate** would be .01. If employment type \"Z\" has 10,000 people, and 50 of them are infected, the infection rate would be .005, and would be **lower** than for type \"X\", even though more people within that employment type were infected."
   ]
  },
  {
   "cell_type": "code",
   "execution_count": 37,
   "metadata": {
    "tags": []
   },
   "outputs": [
    {
     "name": "stdout",
     "output_type": "stream",
     "text": [
      "[('Q', 0.01275573935952277), ('I', 0.010353500473796637), ('V', 0.00759006367897857), ('P', 0.006190311923993122), ('Z', 0.005654639190372061), ('R, S, T', 0.0053900168763782825), ('O', 0.005284125491064018), ('L', 0.00497012728374751), ('G', 0.004947506173465579), ('N', 0.0047844510096647225), ('M', 0.004777052804994364), ('K', 0.004771891810984617), ('X', 0.004538760797415214), ('J', 0.003939436042196867), ('C', 0.003881672484213866), ('A', 0.003852757927098494), ('B, D, E', 0.003773739946793759), ('H', 0.003387583295073737), ('F', 0.0031816876627218365), ('U', 0.0002168693362249245)]\n"
     ]
    }
   ],
   "source": [
    "employment_list = gdf['employment'].unique()\n",
    "dict_l = {}\n",
    "for i in employment_list.values_host:\n",
    "    x = gdf[gdf['employment'] == i]\n",
    "    y = x[x['infected'] == 1.0]\n",
    "    dict_l[i] = y.shape[0]/x.shape[0]\n",
    "\n",
    "dict_s = sorted(dict_l.items(), key=lambda x: x[1], reverse=True)\n",
    "print(dict_s)"
   ]
  },
  {
   "cell_type": "markdown",
   "metadata": {},
   "source": [
    "Finally, read in the employment codes guide from `./data/code_guide.csv` to interpret which employment types are seeing the highest rates of infection."
   ]
  },
  {
   "cell_type": "code",
   "execution_count": 38,
   "metadata": {
    "tags": []
   },
   "outputs": [
    {
     "name": "stdout",
     "output_type": "stream",
     "text": [
      "       Code                                            Field\n",
      "0         A                  Agriculture, forestry & fishing\n",
      "1   B, D, E                  Mining, energy and water supply\n",
      "2         C                                    Manufacturing\n",
      "3         F                                     Construction\n",
      "4         G     Wholesale, retail & repair of motor vehicles\n",
      "5         H                              Transport & storage\n",
      "6         I                    Accommodation & food services\n",
      "7         J                      Information & communication\n",
      "8         K                 Financial & insurance activities\n",
      "9         L                           Real estate activities\n",
      "10        M  Professional, scientific & technical activities\n",
      "11        N                Administrative & support services\n",
      "12        O          Public admin & defence; social security\n",
      "13        P                                        Education\n",
      "14        Q            Human health & social work activities\n",
      "15  R, S, T                                   Other services\n",
      "16        U                                          Student\n",
      "17        V                                          Retired\n",
      "18        X                  Outside the UK or not specified\n",
      "19        Y                                 Pre-school child\n",
      "20        Z                            Not formally employed\n"
     ]
    }
   ],
   "source": [
    "guide = cudf.read_csv('./data/code_guide.csv')\n",
    "print(guide)"
   ]
  },
  {
   "cell_type": "markdown",
   "metadata": {},
   "source": [
    "## Calculate Infection Rates by Employment Code and Sex"
   ]
  },
  {
   "cell_type": "markdown",
   "metadata": {},
   "source": [
    "We want to see if there is an effect of `sex` on infection rate, either in addition to `employment` or confounding it. Group by both `employment` and `sex` simultaneously to get the infection rate for the intersection of those categories."
   ]
  },
  {
   "cell_type": "code",
   "execution_count": null,
   "metadata": {},
   "outputs": [],
   "source": []
  },
  {
   "cell_type": "markdown",
   "metadata": {},
   "source": [
    "## Take the Assessment"
   ]
  },
  {
   "cell_type": "markdown",
   "metadata": {},
   "source": [
    "After completing the work above, visit the *Launch Section* web page that you used to launch this Jupyter Lab. Scroll down below where you launched Jupyter Lab, and answer the question *Week 3 Assessment*. You can view your overall progress in the assessment by visiting the same *Launch Section* page and clicking on the link to the *Progress* page. On the *Progress* page, if you have successfully answered all the assessment questions, you can click on *Generate Certificate* to receive your certificate in the course."
   ]
  },
  {
   "cell_type": "markdown",
   "metadata": {},
   "source": [
    "![launch_task_page](./images/launch_task_page.png)"
   ]
  },
  {
   "cell_type": "markdown",
   "metadata": {},
   "source": [
    "<div align=\"center\"><h2>Optional: Restart the Kernel</h2></div>"
   ]
  },
  {
   "cell_type": "markdown",
   "metadata": {},
   "source": [
    "If you plan to continue work in other notebooks, please shutdown the kernel."
   ]
  },
  {
   "cell_type": "code",
   "execution_count": 39,
   "metadata": {
    "tags": []
   },
   "outputs": [
    {
     "data": {
      "text/plain": [
       "{'status': 'ok', 'restart': True}"
      ]
     },
     "execution_count": 39,
     "metadata": {},
     "output_type": "execute_result"
    }
   ],
   "source": [
    "import IPython\n",
    "app = IPython.Application.instance()\n",
    "app.kernel.do_shutdown(True)"
   ]
  },
  {
   "cell_type": "code",
   "execution_count": null,
   "metadata": {},
   "outputs": [],
   "source": []
  }
 ],
 "metadata": {
  "kernelspec": {
   "display_name": "Python 3 (ipykernel)",
   "language": "python",
   "name": "python3"
  },
  "language_info": {
   "codemirror_mode": {
    "name": "ipython",
    "version": 3
   },
   "file_extension": ".py",
   "mimetype": "text/x-python",
   "name": "python",
   "nbconvert_exporter": "python",
   "pygments_lexer": "ipython3",
   "version": "3.9.16"
  }
 },
 "nbformat": 4,
 "nbformat_minor": 4
}
